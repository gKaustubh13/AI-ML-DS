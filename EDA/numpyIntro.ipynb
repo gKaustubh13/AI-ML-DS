{
 "cells": [
  {
   "cell_type": "code",
   "execution_count": 1,
   "metadata": {},
   "outputs": [],
   "source": [
    "import numpy as np"
   ]
  },
  {
   "cell_type": "code",
   "execution_count": 2,
   "metadata": {},
   "outputs": [
    {
     "name": "stdout",
     "output_type": "stream",
     "text": [
      "<class 'numpy.ndarray'>\n"
     ]
    }
   ],
   "source": [
    "my_list = [\n",
    "    [1, 2, 3, 4],\n",
    "    [5, 6, 7, 8],\n",
    "    [9, 10, 11, 12],\n",
    "]\n",
    "mat1 = np.array([[1, 2, 3, 4],[5, 6, 7, 8],])\n",
    "print(type(mat1))"
   ]
  },
  {
   "cell_type": "code",
   "execution_count": 3,
   "metadata": {},
   "outputs": [
    {
     "name": "stdout",
     "output_type": "stream",
     "text": [
      "Dimension =  1\n",
      "Dimension =  2\n",
      "Dimension =  3\n"
     ]
    }
   ],
   "source": [
    "def give_dimension(my_mat):\n",
    "    print(\"Dimension = \", my_mat.ndim)\n",
    "\n",
    "give_dimension(np.array([1, 2, 3, 4, 5]))\n",
    "give_dimension(np.array([\n",
    "    [1, 2, 3, 4, 5],\n",
    "    [6, 7, 8, 9, 10]\n",
    "]))\n",
    "\n",
    "give_dimension(\n",
    "    np.array(\n",
    "        [\n",
    "            [\n",
    "                [1, 2, 3],\n",
    "                [4, 5, 6],\n",
    "                [7, 8, 9]\n",
    "            ],\n",
    "            [\n",
    "                [10, 11, 12], \n",
    "                [13, 14, 15], \n",
    "                [16, 17, 18]\n",
    "            ],\n",
    "            [\n",
    "                [19, 20, 21], \n",
    "                [22, 23, 24], \n",
    "                [25, 26, 27]\n",
    "            ]\n",
    "        ]\n",
    "    )\n",
    ")\n"
   ]
  },
  {
   "cell_type": "code",
   "execution_count": 4,
   "metadata": {},
   "outputs": [
    {
     "name": "stdout",
     "output_type": "stream",
     "text": [
      "Shape/Order =  (5,)\n",
      "Shape/Order =  (2, 5)\n",
      "Shape/Order =  (3, 2, 2)\n"
     ]
    }
   ],
   "source": [
    "def get_shape(my_mat):\n",
    "    print(\"Shape/Order = \", my_mat.shape)\n",
    "\n",
    "get_shape(np.array([1, 2, 3, 4, 5]))\n",
    "get_shape(np.array([\n",
    "    [1, 2, 3, 4, 5],\n",
    "    [6, 7, 8, 9, 10]\n",
    "]))\n",
    "\n",
    "get_shape(\n",
    "    np.array(\n",
    "        [\n",
    "            [\n",
    "                [1, 2,],\n",
    "                [4, 5,],\n",
    "                \n",
    "            ],\n",
    "            [\n",
    "                [10, 11, ], \n",
    "                [13, 14, ], \n",
    "              \n",
    "            ],\n",
    "            [\n",
    "                [19, 20, ], \n",
    "                [22, 23, ], \n",
    "              \n",
    "            ]\n",
    "        ]\n",
    "    )\n",
    ")"
   ]
  },
  {
   "cell_type": "code",
   "execution_count": 5,
   "metadata": {},
   "outputs": [
    {
     "name": "stdout",
     "output_type": "stream",
     "text": [
      "Size/ Total Elements =  5\n",
      "Size/ Total Elements =  10\n",
      "Size/ Total Elements =  12\n"
     ]
    }
   ],
   "source": [
    "def get_size(my_mat):\n",
    "    print(\"Size/ Total Elements = \", my_mat.size)\n",
    "\n",
    "get_size(np.array([1, 2, 3, 4, 5]))\n",
    "get_size(np.array([\n",
    "    [1, 2, 3, 4, 5],\n",
    "    [6, 7, 8, 9, 10]\n",
    "]))\n",
    "\n",
    "get_size(\n",
    "    np.array(\n",
    "        [\n",
    "            [\n",
    "                [1, 2,],\n",
    "                [4, 5,],\n",
    "                \n",
    "            ],\n",
    "            [\n",
    "                [10, 11, ], \n",
    "                [13, 14, ], \n",
    "              \n",
    "            ],\n",
    "            [\n",
    "                [19, 20, ], \n",
    "                [22, 23, ], \n",
    "              \n",
    "            ]\n",
    "        ]\n",
    "    )\n",
    ")"
   ]
  },
  {
   "cell_type": "code",
   "execution_count": 6,
   "metadata": {},
   "outputs": [
    {
     "name": "stdout",
     "output_type": "stream",
     "text": [
      "Data Type:  float64\n",
      "Data Type:  complex128\n",
      "Data Type:  <U3\n"
     ]
    }
   ],
   "source": [
    "def data_type(my_matrix):\n",
    "    print(\"Data Type: \", my_matrix.dtype)\n",
    "\n",
    "data_type(np.array([1.34, 2.45, 7.69]))\n",
    "data_type(np.array([4j, 1 + 2j, 5]))\n",
    "data_type(np.array([\"a\", \"abc\", \"d\"]))"
   ]
  },
  {
   "cell_type": "code",
   "execution_count": 7,
   "metadata": {},
   "outputs": [],
   "source": [
    "# weight initialisation\n",
    "# Dunder methods"
   ]
  },
  {
   "cell_type": "code",
   "execution_count": null,
   "metadata": {},
   "outputs": [],
   "source": []
  }
 ],
 "metadata": {
  "kernelspec": {
   "display_name": "base",
   "language": "python",
   "name": "python3"
  },
  "language_info": {
   "codemirror_mode": {
    "name": "ipython",
    "version": 3
   },
   "file_extension": ".py",
   "mimetype": "text/x-python",
   "name": "python",
   "nbconvert_exporter": "python",
   "pygments_lexer": "ipython3",
   "version": "3.12.9"
  }
 },
 "nbformat": 4,
 "nbformat_minor": 2
}
